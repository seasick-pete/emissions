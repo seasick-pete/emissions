{
 "cells": [
  {
   "cell_type": "code",
   "execution_count": 13,
   "metadata": {},
   "outputs": [],
   "source": [
    "import pandas as pd\n",
    "uri = '../output_csv_route_specific_2012.csv'\n",
    "\n",
    "def make_dummy_data(df, yr):\n",
    "    df_y = df.copy()\n",
    "    df_y.year = yr\n",
    "    df_y.mean_sog = df_y.mean_sog + 0.2\n",
    "    df_y.total_co2_million = df_y.total_co2_million_tonnes + 0.1\n",
    "    return df_y\n",
    "\n",
    "\n",
    "df = pd.read_csv(uri, sep='\\t')\n",
    "\n",
    "df_out = pd.concat(\n",
    "    make_dummy_data(df, yr)\n",
    "    for yr\n",
    "    in [2012,2013, 2014, 2015, 2016]\n",
    ")\n",
    "\n",
    "df_out.to_csv('../output_csv_route_specific_dummy.csv', '\\t')"
   ]
  },
  {
   "cell_type": "code",
   "execution_count": null,
   "metadata": {
    "collapsed": true
   },
   "outputs": [],
   "source": []
  }
 ],
 "metadata": {
  "kernelspec": {
   "display_name": "Python 3",
   "language": "python",
   "name": "python3"
  },
  "language_info": {
   "codemirror_mode": {
    "name": "ipython",
    "version": 3
   },
   "file_extension": ".py",
   "mimetype": "text/x-python",
   "name": "python",
   "nbconvert_exporter": "python",
   "pygments_lexer": "ipython3",
   "version": "3.6.3"
  }
 },
 "nbformat": 4,
 "nbformat_minor": 2
}
